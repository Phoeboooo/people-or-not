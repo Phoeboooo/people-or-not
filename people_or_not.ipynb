{
 "cells": [
  {
   "cell_type": "code",
   "execution_count": 1,
   "metadata": {},
   "outputs": [
    {
     "name": "stderr",
     "output_type": "stream",
     "text": [
      "C:\\Users\\apple\\Anaconda3\\lib\\site-packages\\h5py\\__init__.py:36: FutureWarning: Conversion of the second argument of issubdtype from `float` to `np.floating` is deprecated. In future, it will be treated as `np.float64 == np.dtype(float).type`.\n",
      "  from ._conv import register_converters as _register_converters\n",
      "Using TensorFlow backend.\n"
     ]
    }
   ],
   "source": [
    "import keras"
   ]
  },
  {
   "cell_type": "code",
   "execution_count": 6,
   "metadata": {},
   "outputs": [
    {
     "name": "stdout",
     "output_type": "stream",
     "text": [
      "_________________________________________________________________\n",
      "Layer (type)                 Output Shape              Param #   \n",
      "=================================================================\n",
      "conv2d_9 (Conv2D)            (None, 148, 148, 32)      896       \n",
      "_________________________________________________________________\n",
      "max_pooling2d_9 (MaxPooling2 (None, 74, 74, 32)        0         \n",
      "_________________________________________________________________\n",
      "dropout_11 (Dropout)         (None, 74, 74, 32)        0         \n",
      "_________________________________________________________________\n",
      "conv2d_10 (Conv2D)           (None, 72, 72, 64)        18496     \n",
      "_________________________________________________________________\n",
      "max_pooling2d_10 (MaxPooling (None, 36, 36, 64)        0         \n",
      "_________________________________________________________________\n",
      "dropout_12 (Dropout)         (None, 36, 36, 64)        0         \n",
      "_________________________________________________________________\n",
      "conv2d_11 (Conv2D)           (None, 34, 34, 128)       73856     \n",
      "_________________________________________________________________\n",
      "max_pooling2d_11 (MaxPooling (None, 17, 17, 128)       0         \n",
      "_________________________________________________________________\n",
      "dropout_13 (Dropout)         (None, 17, 17, 128)       0         \n",
      "_________________________________________________________________\n",
      "conv2d_12 (Conv2D)           (None, 15, 15, 128)       147584    \n",
      "_________________________________________________________________\n",
      "max_pooling2d_12 (MaxPooling (None, 7, 7, 128)         0         \n",
      "_________________________________________________________________\n",
      "dropout_14 (Dropout)         (None, 7, 7, 128)         0         \n",
      "_________________________________________________________________\n",
      "flatten_3 (Flatten)          (None, 6272)              0         \n",
      "_________________________________________________________________\n",
      "dense_5 (Dense)              (None, 512)               3211776   \n",
      "_________________________________________________________________\n",
      "dropout_15 (Dropout)         (None, 512)               0         \n",
      "_________________________________________________________________\n",
      "dense_6 (Dense)              (None, 1)                 513       \n",
      "=================================================================\n",
      "Total params: 3,453,121\n",
      "Trainable params: 3,453,121\n",
      "Non-trainable params: 0\n",
      "_________________________________________________________________\n"
     ]
    }
   ],
   "source": [
    "from keras import layers\n",
    "from keras import models\n",
    "from keras import optimizers\n",
    "\n",
    "model = models.Sequential()\n",
    "model.add(layers.Conv2D(32, (3, 3), activation='relu',\n",
    "                        input_shape=(150, 150, 3)))\n",
    "model.add(layers.MaxPooling2D((2, 2)))\n",
    "model.add(layers.Dropout(0.2))\n",
    "model.add(layers.Conv2D(64, (3, 3), activation='relu'))\n",
    "model.add(layers.MaxPooling2D((2, 2)))\n",
    "model.add(layers.Dropout(0.2))\n",
    "model.add(layers.Conv2D(128, (3, 3), activation='relu'))\n",
    "model.add(layers.MaxPooling2D((2, 2)))\n",
    "model.add(layers.Dropout(0.2))\n",
    "model.add(layers.Conv2D(128, (3, 3), activation='relu'))\n",
    "model.add(layers.MaxPooling2D((2, 2)))\n",
    "model.add(layers.Dropout(0.2))\n",
    "model.add(layers.Flatten())\n",
    "model.add(layers.Dense(512, activation='relu'))\n",
    "model.add(layers.Dropout(0.2))\n",
    "model.add(layers.Dense(1, activation='sigmoid'))\n",
    "\n",
    "model.compile(loss='binary_crossentropy',\n",
    "              optimizer=optimizers.RMSprop(lr=1e-4),\n",
    "              metrics=['acc'])\n",
    "\n",
    "model.summary()"
   ]
  },
  {
   "cell_type": "code",
   "execution_count": 5,
   "metadata": {},
   "outputs": [
    {
     "name": "stdout",
     "output_type": "stream",
     "text": [
      "Found 5482 images belonging to 2 classes.\n",
      "Found 1844 images belonging to 2 classes.\n"
     ]
    }
   ],
   "source": [
    "from keras.preprocessing.image import ImageDataGenerator\n",
    "\n",
    "train_dir = 'Downloads/people_others/train'\n",
    "validation_dir = 'Downloads/people_others/validation'\n",
    "\n",
    "# rescaled by 1./255\n",
    "train_datagen = ImageDataGenerator(rescale=1./255)\n",
    "test_datagen = ImageDataGenerator(rescale=1./255)\n",
    "\n",
    "train_generator = train_datagen.flow_from_directory(\n",
    "        train_dir,  # directory\n",
    "        target_size=(150, 150),   # input shape (resized to 150x150)\n",
    "        batch_size=20,\n",
    "        class_mode='binary')   # binary labels\n",
    "\n",
    "validation_generator = test_datagen.flow_from_directory(\n",
    "        validation_dir,\n",
    "        target_size=(150, 150),\n",
    "        batch_size=20,\n",
    "        class_mode='binary')"
   ]
  },
  
  {
   "cell_type": "code",
   "execution_count": 7,
   "metadata": {},
   "outputs": [
    {
     "name": "stdout",
     "output_type": "stream",
     "text": [
      "Epoch 1/30\n",
      "270/270 [==============================] - 441s 2s/step - loss: 0.6311 - acc: 0.6439 - val_loss: 0.6305 - val_acc: 0.7109\n",
      "Epoch 2/30\n",
      "270/270 [==============================] - 441s 2s/step - loss: 0.5517 - acc: 0.7265 - val_loss: 0.5858 - val_acc: 0.7321\n",
      "Epoch 3/30\n",
      "270/270 [==============================] - 463s 2s/step - loss: 0.5030 - acc: 0.7594 - val_loss: 0.5171 - val_acc: 0.8022\n",
      "Epoch 4/30\n",
      "270/270 [==============================] - 514s 2s/step - loss: 0.4648 - acc: 0.7880 - val_loss: 0.5365 - val_acc: 0.7864\n",
      "Epoch 5/30\n",
      "270/270 [==============================] - 491s 2s/step - loss: 0.4392 - acc: 0.8031 - val_loss: 0.4687 - val_acc: 0.8370\n",
      "Epoch 6/30\n",
      "270/270 [==============================] - 469s 2s/step - loss: 0.4231 - acc: 0.8111 - val_loss: 0.4781 - val_acc: 0.8418\n",
      "Epoch 7/30\n",
      "270/270 [==============================] - 458s 2s/step - loss: 0.4094 - acc: 0.8191 - val_loss: 0.4517 - val_acc: 0.8168\n",
      "Epoch 8/30\n",
      "270/270 [==============================] - 458s 2s/step - loss: 0.3946 - acc: 0.8226 - val_loss: 0.4272 - val_acc: 0.8522\n",
      "Epoch 9/30\n",
      "270/270 [==============================] - 460s 2s/step - loss: 0.3907 - acc: 0.8337 - val_loss: 0.4258 - val_acc: 0.8533\n",
      "Epoch 10/30\n",
      "270/270 [==============================] - 459s 2s/step - loss: 0.3833 - acc: 0.8328 - val_loss: 0.4283 - val_acc: 0.8636\n",
      "Epoch 11/30\n",
      "270/270 [==============================] - 461s 2s/step - loss: 0.3727 - acc: 0.8396 - val_loss: 0.4084 - val_acc: 0.8473\n",
      "Epoch 12/30\n",
      "270/270 [==============================] - 459s 2s/step - loss: 0.3691 - acc: 0.8404 - val_loss: 0.4293 - val_acc: 0.8179\n",
      "Epoch 13/30\n",
      "270/270 [==============================] - 458s 2s/step - loss: 0.3646 - acc: 0.8413 - val_loss: 0.3743 - val_acc: 0.8495\n",
      "Epoch 14/30\n",
      "270/270 [==============================] - 457s 2s/step - loss: 0.3676 - acc: 0.8435 - val_loss: 0.3831 - val_acc: 0.8429\n",
      "Epoch 15/30\n",
      "270/270 [==============================] - 463s 2s/step - loss: 0.3576 - acc: 0.8448 - val_loss: 0.3739 - val_acc: 0.8582\n",
      "Epoch 16/30\n",
      "270/270 [==============================] - 453s 2s/step - loss: 0.3547 - acc: 0.8470 - val_loss: 0.3838 - val_acc: 0.8538\n",
      "Epoch 17/30\n",
      "270/270 [==============================] - 457s 2s/step - loss: 0.3520 - acc: 0.8530 - val_loss: 0.3930 - val_acc: 0.8543\n",
      "Epoch 18/30\n",
      "270/270 [==============================] - 493s 2s/step - loss: 0.3385 - acc: 0.8511 - val_loss: 0.3933 - val_acc: 0.8587\n",
      "Epoch 19/30\n",
      "270/270 [==============================] - 453s 2s/step - loss: 0.3414 - acc: 0.8504 - val_loss: 0.3654 - val_acc: 0.8603\n",
      "Epoch 20/30\n",
      "270/270 [==============================] - 470s 2s/step - loss: 0.3315 - acc: 0.8620 - val_loss: 0.3621 - val_acc: 0.8598\n",
      "Epoch 21/30\n",
      "270/270 [==============================] - 531s 2s/step - loss: 0.3360 - acc: 0.8563 - val_loss: 0.4022 - val_acc: 0.8413\n",
      "Epoch 22/30\n",
      "270/270 [==============================] - 473s 2s/step - loss: 0.3306 - acc: 0.8648 - val_loss: 0.3679 - val_acc: 0.8598\n",
      "Epoch 23/30\n",
      "270/270 [==============================] - 462s 2s/step - loss: 0.3160 - acc: 0.8676 - val_loss: 0.3592 - val_acc: 0.8533\n",
      "Epoch 24/30\n",
      "270/270 [==============================] - 458s 2s/step - loss: 0.3152 - acc: 0.8639 - val_loss: 0.3584 - val_acc: 0.8663\n",
      "Epoch 25/30\n",
      "270/270 [==============================] - 677s 3s/step - loss: 0.3056 - acc: 0.8754 - val_loss: 0.4007 - val_acc: 0.8408\n",
      "Epoch 26/30\n",
      "270/270 [==============================] - 674s 2s/step - loss: 0.3091 - acc: 0.8687 - val_loss: 0.3637 - val_acc: 0.8543\n",
      "Epoch 27/30\n",
      "270/270 [==============================] - 724s 3s/step - loss: 0.3128 - acc: 0.8648 - val_loss: 0.3867 - val_acc: 0.8478\n",
      "Epoch 28/30\n",
      "270/270 [==============================] - 486s 2s/step - loss: 0.2984 - acc: 0.8765 - val_loss: 0.3579 - val_acc: 0.8636\n",
      "Epoch 29/30\n",
      "270/270 [==============================] - 486s 2s/step - loss: 0.2911 - acc: 0.8765 - val_loss: 0.3617 - val_acc: 0.8663\n",
      "Epoch 30/30\n",
      "270/270 [==============================] - 502s 2s/step - loss: 0.2955 - acc: 0.8720 - val_loss: 0.3930 - val_acc: 0.8582\n"
     ]
    }
   ],
   "source": [
    "history = model.fit_generator(\n",
    "      train_generator,\n",
    "      steps_per_epoch=270,\n",
    "      epochs=30,\n",
    "      validation_data=validation_generator,\n",
    "      validation_steps=92)"
   ]
  },
  {
   "cell_type": "code",
   "execution_count": 8,
   "metadata": {},
   "outputs": [],
   "source": [
    "model.save('people_others1')"
   ]
  },
  {
   "cell_type": "code",
   "execution_count": 10,
   "metadata": {},
   "outputs": [
    {
     "data": {
      "image/png": "[encoded data removed]",
      "text/plain": [
       "<Figure size 432x288 with 1 Axes>"
      ]
     },
     "metadata": {},
     "output_type": "display_data"
    },
    {
     "data": {
      "image/png": "[encoded data removed]",
      "text/plain": [
       "<Figure size 432x288 with 1 Axes>"
      ]
     },
     "metadata": {},
     "output_type": "display_data"
    }
   ],
   "source": [
    "import matplotlib.pyplot as plt\n",
    "\n",
    "acc = history.history['acc']\n",
    "val_acc = history.history['val_acc']\n",
    "loss = history.history['loss']\n",
    "val_loss = history.history['val_loss']\n",
    "\n",
    "epochs = range(len(acc))\n",
    "\n",
    "plt.plot(epochs, acc, 'bo', label='Training acc')\n",
    "plt.plot(epochs, val_acc, 'b', label='Validation acc')\n",
    "plt.title('Training and validation accuracy')\n",
    "plt.legend()\n",
    "\n",
    "plt.figure()\n",
    "\n",
    "plt.plot(epochs, loss, 'bo', label='Training loss')\n",
    "plt.plot(epochs, val_loss, 'b', label='Validation loss')\n",
    "plt.title('Training and validation loss')\n",
    "plt.legend()\n",
    "\n",
    "plt.show()"
   ]
  },
  {
   "cell_type": "code",
   "execution_count": 1,
   "metadata": {},
   "outputs": [
    {
     "name": "stderr",
     "output_type": "stream",
     "text": [
      "C:\\Users\\apple\\Anaconda3\\lib\\site-packages\\h5py\\__init__.py:36: FutureWarning: Conversion of the second argument of issubdtype from `float` to `np.floating` is deprecated. In future, it will be treated as `np.float64 == np.dtype(float).type`.\n",
      "  from ._conv import register_converters as _register_converters\n",
      "Using TensorFlow backend.\n"
     ]
    },
    {
     "name": "stdout",
     "output_type": "stream",
     "text": [
      "WARNING:tensorflow:From C:\\Users\\apple\\Anaconda3\\lib\\site-packages\\keras\\backend\\tensorflow_backend.py:1264: calling reduce_prod (from tensorflow.python.ops.math_ops) with keep_dims is deprecated and will be removed in a future version.\n",
      "Instructions for updating:\n",
      "keep_dims is deprecated, use keepdims instead\n",
      "WARNING:tensorflow:From C:\\Users\\apple\\Anaconda3\\lib\\site-packages\\keras\\backend\\tensorflow_backend.py:1349: calling reduce_mean (from tensorflow.python.ops.math_ops) with keep_dims is deprecated and will be removed in a future version.\n",
      "Instructions for updating:\n",
      "keep_dims is deprecated, use keepdims instead\n",
      "Found 1843 images belonging to 2 classes.\n",
      "test loss: 0.42093269980472064\n",
      "test acc: 0.8298913052548533\n"
     ]
    }
   ],
   "source": [
    "from keras.models import load_model\n",
    "from keras.preprocessing.image import ImageDataGenerator\n",
    "model = load_model('people_others1')\n",
    "\n",
    "test_dir = 'downloads/people_others/test'\n",
    "test_datagen = ImageDataGenerator(rescale=1./255)\n",
    "test_generator = test_datagen.flow_from_directory(\n",
    "    test_dir,\n",
    "    target_size=(150,150),\n",
    "    batch_size=20,\n",
    "    class_mode='binary')\n",
    "\n",
    "test_loss, test_acc = model.evaluate_generator(test_generator, steps=92)\n",
    "print('test loss:', test_loss)\n",
    "print('test acc:', test_acc)"
   ]
  }
 ],
 "metadata": {
  "kernelspec": {
   "display_name": "Python 3",
   "language": "python",
   "name": "python3"
  },
  "language_info": {
   "codemirror_mode": {
    "name": "ipython",
    "version": 3
   },
   "file_extension": ".py",
   "mimetype": "text/x-python",
   "name": "python",
   "nbconvert_exporter": "python",
   "pygments_lexer": "ipython3",
   "version": "3.6.5"
  }
 },
 "nbformat": 4,
 "nbformat_minor": 2
}
